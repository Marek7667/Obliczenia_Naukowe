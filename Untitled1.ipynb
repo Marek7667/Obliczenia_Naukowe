{
  "nbformat": 4,
  "nbformat_minor": 0,
  "metadata": {
    "colab": {
      "name": "Untitled1.ipynb",
      "provenance": [],
      "authorship_tag": "ABX9TyNpdoGnjzawn8mB0aS2KOT6",
      "include_colab_link": true
    },
    "kernelspec": {
      "name": "python3",
      "display_name": "Python 3"
    },
    "language_info": {
      "name": "python"
    }
  },
  "cells": [
    {
      "cell_type": "markdown",
      "metadata": {
        "id": "view-in-github",
        "colab_type": "text"
      },
      "source": [
        "<a href=\"https://colab.research.google.com/github/Marek7667/Obliczenia_Naukowe/blob/main/Untitled1.ipynb\" target=\"_parent\"><img src=\"https://colab.research.google.com/assets/colab-badge.svg\" alt=\"Open In Colab\"/></a>"
      ]
    },
    {
      "cell_type": "markdown",
      "source": [
        "#Słowiki\n",
        "````python\n",
        "ptaszor:{klucz_1:wartość_1,klucz_2:wartość_2,...}\n",
        "ptaszor.keys()\n",
        "ptaszor.values()\n",
        "````"
      ],
      "metadata": {
        "id": "J-jn-DwJbHZj"
      }
    },
    {
      "cell_type": "markdown",
      "source": [
        "\"Dany jest słownik student={'imie':'Jan', 'nazwisko':'kowalski','wiek':25, 'wzrost':188, 'waga':80, 'miasto':'Toruń'}\\n\",\n",
        "        \"\\n\",\n",
        "        \"* Wypisz jego elementy w postaci \\\"klucz -> wartość \\\"\\n\",\n",
        "        \"* Zmień 'wzrost' na 182 \\n\",\n",
        "        \"* Dodaj klucz 'wynik matury' z dowolną wartością\\n\",\n",
        "        \"* Usuń klucz (i wartość) 'miasto'\""
      ],
      "metadata": {
        "id": "Owj28XVmcLE0"
      }
    },
    {
      "cell_type": "code",
      "source": [
        "student={'imie':'Jan', 'nazwisko':'kowalski','wiek':25, 'wzrost':188, 'waga':80, 'miasto':'Toruń'}\n",
        "for kl in student:\n",
        "  print(kl +' -> '+str(student[i]))\n",
        "student['wzrost']=182\n",
        "print(student['wzrost'])\n",
        "student['wynik matury']=-3\n",
        "del student['miasto']\n"
      ],
      "metadata": {
        "colab": {
          "base_uri": "https://localhost:8080/"
        },
        "id": "4HUypn6QcInU",
        "outputId": "f8aa18f7-9ec5-4ef4-8cbc-2898df119413"
      },
      "execution_count": 14,
      "outputs": [
        {
          "output_type": "stream",
          "name": "stdout",
          "text": [
            "imie -> Toruń\n",
            "nazwisko -> Toruń\n",
            "wiek -> Toruń\n",
            "wzrost -> Toruń\n",
            "waga -> Toruń\n",
            "miasto -> Toruń\n",
            "182\n"
          ]
        }
      ]
    },
    {
      "cell_type": "markdown",
      "source": [
        "Zadanie 2\n",
        "Dane są dwie listy równej długości\n",
        "\n",
        "klucze=['klucz1','klucz2','inny klucz', 'test'] wartosci=[1,2,5,1] Utwórz w sposób zautomatyzowany (nie ręcznie) słownik, który kolejnym kluczom przypisze kolejne wartości."
      ],
      "metadata": {
        "id": "WRxSPhw4e_3O"
      }
    },
    {
      "cell_type": "code",
      "source": [
        "klucze=['klucz1','klucz2','inny klucz', 'test'] \n",
        "wartosci=[1,2,5,1] \n",
        "a={}\n",
        "b=0\n",
        "for i in klucze:\n",
        "  a[i]=wartosci[b]\n",
        "  b+=1\n",
        "a"
      ],
      "metadata": {
        "colab": {
          "base_uri": "https://localhost:8080/"
        },
        "id": "qHjqt5KjfAUl",
        "outputId": "4ccbfa0f-9918-41e2-81c9-d620f7df75d6"
      },
      "execution_count": 16,
      "outputs": [
        {
          "output_type": "execute_result",
          "data": {
            "text/plain": [
              "{'inny klucz': 5, 'klucz1': 1, 'klucz2': 2, 'test': 1}"
            ]
          },
          "metadata": {},
          "execution_count": 16
        }
      ]
    },
    {
      "cell_type": "code",
      "source": [
        "klucze=['klucz1','klucz2','inny klucz', 'test'] \n",
        "wartosci=[1,2,5,1] \n",
        "dzieciol=zip(klucze,wartosci)\n",
        "dict(dzieciol)"
      ],
      "metadata": {
        "colab": {
          "base_uri": "https://localhost:8080/"
        },
        "id": "yiLrG9vygF9m",
        "outputId": "bc0a42c6-b10c-4c55-b31b-55d22e26f62c"
      },
      "execution_count": 18,
      "outputs": [
        {
          "output_type": "execute_result",
          "data": {
            "text/plain": [
              "{'inny klucz': 5, 'klucz1': 1, 'klucz2': 2, 'test': 1}"
            ]
          },
          "metadata": {},
          "execution_count": 18
        }
      ]
    },
    {
      "cell_type": "markdown",
      "source": [
        "#zad 3\n"
      ],
      "metadata": {
        "id": "NkPBh-CIggxt"
      }
    },
    {
      "cell_type": "code",
      "source": [
        "def ciong(n):\n",
        "  if n==0:\n",
        "    return 1\n",
        "  else:\n",
        "    return 2*ciong(n-1)\n",
        "ciong(8)"
      ],
      "metadata": {
        "colab": {
          "base_uri": "https://localhost:8080/"
        },
        "id": "OFEE5x7_gqzd",
        "outputId": "00605dca-1f13-4adc-a6df-769441949b0c"
      },
      "execution_count": 20,
      "outputs": [
        {
          "output_type": "execute_result",
          "data": {
            "text/plain": [
              "256"
            ]
          },
          "metadata": {},
          "execution_count": 20
        }
      ]
    },
    {
      "cell_type": "code",
      "source": [
        "def cing(n):\n",
        "  if n==0:\n",
        "    return 0\n",
        "  elif n==1:\n",
        "    return 1\n",
        "  else:\n",
        "    return cing(n-1)+cing(n-2)\n",
        "cing(7)"
      ],
      "metadata": {
        "colab": {
          "base_uri": "https://localhost:8080/"
        },
        "id": "lRVeN31Ghj0m",
        "outputId": "598de7e3-f4d0-46e7-c87d-387bb0104e80"
      },
      "execution_count": 27,
      "outputs": [
        {
          "output_type": "execute_result",
          "data": {
            "text/plain": [
              "13"
            ]
          },
          "metadata": {},
          "execution_count": 27
        }
      ]
    },
    {
      "cell_type": "markdown",
      "source": [
        "#Senpai >_<\n",
        "```python\n",
        "import sympy as senpai #pracujemy na symbolach\n",
        "from sympy import * #importuje wszystko\n",
        "sin(30) #sin(30)\n",
        "x=symbols('x') #ładne x\n",
        "x,y=symbols('x','y') #ładne x,y\n",
        "```"
      ],
      "metadata": {
        "id": "feNY08Y8if19"
      }
    },
    {
      "cell_type": "code",
      "source": [
        "from sympy import *\n",
        "x=symbols('x')\n",
        "sin(x)**2+cos(x)**2\n",
        "#simplify(_) #ostatni wyswietoly wynik podloga\n",
        "#solve(2*x-5)\n",
        "solve(x**2+5*x+3)\n",
        "wyr=x**2+5*x+3\n",
        "wyr.subs(x,1)\n",
        "wyr.diff(x)\n",
        "f=symbols('f',cls=Function)\n",
        "dsolve(f(x).diff(x)-f(x))\n"
      ],
      "metadata": {
        "colab": {
          "base_uri": "https://localhost:8080/",
          "height": 38
        },
        "id": "dLNYKJnsiVXW",
        "outputId": "73a0b019-b09d-4666-92f0-5da97e6e556f"
      },
      "execution_count": 52,
      "outputs": [
        {
          "output_type": "execute_result",
          "data": {
            "text/latex": "$\\displaystyle f{\\left(x \\right)} = C_{1} e^{x}$",
            "text/plain": [
              "Eq(f(x), C1*exp(x))"
            ]
          },
          "metadata": {},
          "execution_count": 52
        }
      ]
    },
    {
      "cell_type": "code",
      "source": [
        "wyr=x**2+5*x+3\n",
        "integrate(wyr,x)"
      ],
      "metadata": {
        "colab": {
          "base_uri": "https://localhost:8080/",
          "height": 54
        },
        "id": "PJICNuDOmxTW",
        "outputId": "90145628-921e-476c-dfe5-6c642793cd29"
      },
      "execution_count": 56,
      "outputs": [
        {
          "output_type": "execute_result",
          "data": {
            "text/latex": "$\\displaystyle \\frac{x^{3}}{3} + \\frac{5 x^{2}}{2} + 3 x$",
            "text/plain": [
              "x**3/3 + 5*x**2/2 + 3*x"
            ]
          },
          "metadata": {},
          "execution_count": 56
        }
      ]
    },
    {
      "cell_type": "code",
      "source": [
        "plot(wyr,(x,0,5))"
      ],
      "metadata": {
        "colab": {
          "base_uri": "https://localhost:8080/",
          "height": 314
        },
        "id": "WbzASd5vnaAl",
        "outputId": "85f2a62b-35dd-4157-8aec-27a865e186ae"
      },
      "execution_count": 61,
      "outputs": [
        {
          "output_type": "display_data",
          "data": {
            "image/png": "[encoded data removed]",
            "text/plain": [
              "<Figure size 432x288 with 1 Axes>"
            ]
          },
          "metadata": {
            "needs_background": "light"
          }
        },
        {
          "output_type": "execute_result",
          "data": {
            "text/plain": [
              "<sympy.plotting.plot.Plot at 0x7f49bbafdd90>"
            ]
          },
          "metadata": {},
          "execution_count": 61
        }
      ]
    },
    {
      "cell_type": "code",
      "source": [
        "def pochodna(f,x,t):\n",
        "  h=symbols('h')\n",
        "  a=limit((f.subs(t,x+h)-f.subs(t,x))/h,h,0)\n",
        "  return a\n",
        "pochodna(x,3,x)"
      ],
      "metadata": {
        "colab": {
          "base_uri": "https://localhost:8080/",
          "height": 37
        },
        "id": "-vD9YkI3nzKW",
        "outputId": "6653e416-cb2e-437f-f222-473234691d4d"
      },
      "execution_count": 71,
      "outputs": [
        {
          "output_type": "execute_result",
          "data": {
            "text/latex": "$\\displaystyle 1$",
            "text/plain": [
              "1"
            ]
          },
          "metadata": {},
          "execution_count": 71
        }
      ]
    }
  ]
}