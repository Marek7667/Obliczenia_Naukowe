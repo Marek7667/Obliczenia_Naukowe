{
  "nbformat": 4,
  "nbformat_minor": 0,
  "metadata": {
    "colab": {
      "name": "zadDomowe_Siwka.ipynb",
      "provenance": [],
      "authorship_tag": "ABX9TyNbaD03/Pp4jq49dqY9MjkH",
      "include_colab_link": true
    },
    "kernelspec": {
      "name": "python3",
      "display_name": "Python 3"
    },
    "language_info": {
      "name": "python"
    }
  },
  "cells": [
    {
      "cell_type": "markdown",
      "metadata": {
        "id": "view-in-github",
        "colab_type": "text"
      },
      "source": [
        "<a href=\"https://colab.research.google.com/github/Marek7667/Obliczenia_Naukowe/blob/main/zadDomowe.ipynb\" target=\"_parent\"><img src=\"https://colab.research.google.com/assets/colab-badge.svg\" alt=\"Open In Colab\"/></a>"
      ]
    },
    {
      "cell_type": "code",
      "source": [
        "#**TYTUŁ**\n",
        "#Sekcja skrypt\n",
        "name=input('Podaj swoje imię: ')\n",
        "print('Cześć ',name)\n",
        "#Sekcja skrypt 2\n",
        "````python\n",
        "name=input('Podaj swoje imię: ')\n",
        "print('Cześć ',name)\n",
        "````\n",
        "#Sekcja obrazek\n",
        "\n",
        "#Sekcja funkcja\n",
        "import random\n",
        "def listownik():\n",
        "  dl=0\n",
        "  while (dl<10 or dl>20):\n",
        "    dl=int(input('Podaj długość listy (wartość pomiędzy 10 a 20): '))\n",
        "  l=[]\n",
        "  for i in range(dl-1):\n",
        "    l.append(random.randint(0, 10))\n",
        "  l_2=11*[0]\n",
        "  for i in range(10):\n",
        "    for j in l:\n",
        "      if i==j:l_2[j]=l_2[i]+1\n",
        "  k=0\n",
        "  for i in l_2:\n",
        "    print(k ,'  ' , i)\n",
        "    k=k+1\n",
        "listownik()\n",
        "\n",
        "\n",
        "\n",
        "  "
      ],
      "metadata": {
        "id": "5Y6lHDjeiFc-"
      },
      "execution_count": 7,
      "outputs": []
    },
    {
      "cell_type": "code",
      "source": [
        ""
      ],
      "metadata": {
        "id": "Ru_xrAQjrIhq"
      },
      "execution_count": null,
      "outputs": []
    }
  ]
}