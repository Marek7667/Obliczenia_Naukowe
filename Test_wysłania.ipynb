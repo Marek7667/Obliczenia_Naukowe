{
  "nbformat": 4,
  "nbformat_minor": 0,
  "metadata": {
    "colab": {
      "name": "Test wysłania",
      "provenance": [],
      "authorship_tag": "ABX9TyMOiLyXSAArcCz+zHRSSxIq",
      "include_colab_link": true
    },
    "kernelspec": {
      "name": "python3",
      "display_name": "Python 3"
    },
    "language_info": {
      "name": "python"
    }
  },
  "cells": [
    {
      "cell_type": "markdown",
      "metadata": {
        "id": "view-in-github",
        "colab_type": "text"
      },
      "source": [
        "<a href=\"https://colab.research.google.com/github/Marek7667/Obliczenia_Naukowe/blob/main/Test_wys%C5%82ania.ipynb\" target=\"_parent\"><img src=\"https://colab.research.google.com/assets/colab-badge.svg\" alt=\"Open In Colab\"/></a>"
      ]
    },
    {
      "cell_type": "code",
      "execution_count": null,
      "metadata": {
        "id": "6DW0RWSYaP0q"
      },
      "outputs": [],
      "source": [
        ""
      ]
    }
  ]
}