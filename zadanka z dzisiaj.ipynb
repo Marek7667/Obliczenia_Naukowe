{
  "nbformat": 4,
  "nbformat_minor": 0,
  "metadata": {
    "colab": {
      "name": "Untitled0.ipynb",
      "provenance": [],
      "authorship_tag": "ABX9TyPzKEtB9EesaL6IFH12sHvD",
      "include_colab_link": true
    },
    "kernelspec": {
      "name": "python3",
      "display_name": "Python 3"
    },
    "language_info": {
      "name": "python"
    }
  },
  "cells": [
    {
      "cell_type": "markdown",
      "metadata": {
        "id": "view-in-github",
        "colab_type": "text"
      },
      "source": [
        "<a href=\"https://colab.research.google.com/github/Marek7667/Obliczenia_Naukowe/blob/main/zadanka%20z%20dzisiaj.ipynb\" target=\"_parent\"><img src=\"https://colab.research.google.com/assets/colab-badge.svg\" alt=\"Open In Colab\"/></a>"
      ]
    },
    {
      "cell_type": "markdown",
      "source": [
        "#**pętelki w wężu**\n",
        "\n",
        "\n",
        "\n"
      ],
      "metadata": {
        "id": "SvUQtQDIY0ec"
      }
    },
    {
      "cell_type": "code",
      "execution_count": 6,
      "metadata": {
        "colab": {
          "base_uri": "https://localhost:8080/"
        },
        "id": "rMJEAToDYzSP",
        "outputId": "77fb03a6-72bb-40e9-909c-7f9a5e038f63"
      },
      "outputs": [
        {
          "output_type": "stream",
          "name": "stdout",
          "text": [
            "podaj liczbe: -3\n",
            "-4\n"
          ]
        }
      ],
      "source": [
        "x=int(input('podaj liczbe: '))\n",
        "\n",
        "if x>0:\n",
        "  print(x+1)\n",
        "elif x<0:\n",
        "  print(x-1)\n",
        "else:\n",
        "  print(x)"
      ]
    },
    {
      "cell_type": "code",
      "source": [
        "for i in range(0,101,2):\n",
        "  print(i)\n",
        "#parzyste liczby od 0 do 100\n"
      ],
      "metadata": {
        "id": "Zt7uw83vaeLQ"
      },
      "execution_count": null,
      "outputs": []
    },
    {
      "cell_type": "code",
      "source": [
        "i=0\n",
        "while True:\n",
        "  i=i+1\n",
        "  print(i)\n",
        "  if i==6: \n",
        "    break"
      ],
      "metadata": {
        "id": "NPT87myibYDX"
      },
      "execution_count": null,
      "outputs": []
    },
    {
      "cell_type": "code",
      "source": [
        "def dodawanie(x):\n",
        "  return x+5\n",
        "dodawanie(8)"
      ],
      "metadata": {
        "colab": {
          "base_uri": "https://localhost:8080/"
        },
        "id": "NGIsJDQ2caaV",
        "outputId": "cfc32294-4705-46ee-862a-340f2b6d13f5"
      },
      "execution_count": 17,
      "outputs": [
        {
          "output_type": "execute_result",
          "data": {
            "text/plain": [
              "13"
            ]
          },
          "metadata": {},
          "execution_count": 17
        }
      ]
    },
    {
      "cell_type": "code",
      "source": [
        "def potega(x,y=2):\n",
        "  return x**y\n",
        "potega(3,3)\n"
      ],
      "metadata": {
        "colab": {
          "base_uri": "https://localhost:8080/"
        },
        "id": "GY_QnvUpdPEt",
        "outputId": "37b5b70a-a9c7-4921-f748-cafc7449c23c"
      },
      "execution_count": 23,
      "outputs": [
        {
          "output_type": "execute_result",
          "data": {
            "text/plain": [
              "27"
            ]
          },
          "metadata": {},
          "execution_count": 23
        }
      ]
    },
    {
      "cell_type": "code",
      "source": [
        "lista1=['banan','truskawka',18,783245]\n",
        "type(lista1[1])\n",
        "lista1[0]='ananas'\n",
        "lista1.sort(key=)"
      ],
      "metadata": {
        "colab": {
          "base_uri": "https://localhost:8080/",
          "height": 200
        },
        "id": "3GPMPN2kd9R0",
        "outputId": "152f7abf-f7d5-4414-d330-34c5070a5079"
      },
      "execution_count": 44,
      "outputs": [
        {
          "output_type": "error",
          "ename": "NameError",
          "evalue": "ignored",
          "traceback": [
            "\u001b[0;31m---------------------------------------------------------------------------\u001b[0m",
            "\u001b[0;31mNameError\u001b[0m                                 Traceback (most recent call last)",
            "\u001b[0;32m<ipython-input-44-a82e331b1f62>\u001b[0m in \u001b[0;36m<module>\u001b[0;34m()\u001b[0m\n\u001b[1;32m      2\u001b[0m \u001b[0mtype\u001b[0m\u001b[0;34m(\u001b[0m\u001b[0mlista1\u001b[0m\u001b[0;34m[\u001b[0m\u001b[0;36m1\u001b[0m\u001b[0;34m]\u001b[0m\u001b[0;34m)\u001b[0m\u001b[0;34m\u001b[0m\u001b[0;34m\u001b[0m\u001b[0m\n\u001b[1;32m      3\u001b[0m \u001b[0mlista1\u001b[0m\u001b[0;34m[\u001b[0m\u001b[0;36m0\u001b[0m\u001b[0;34m]\u001b[0m\u001b[0;34m=\u001b[0m\u001b[0;34m'ananas'\u001b[0m\u001b[0;34m\u001b[0m\u001b[0;34m\u001b[0m\u001b[0m\n\u001b[0;32m----> 4\u001b[0;31m \u001b[0mlista1\u001b[0m\u001b[0;34m.\u001b[0m\u001b[0msort\u001b[0m\u001b[0;34m(\u001b[0m\u001b[0mkey\u001b[0m\u001b[0;34m=\u001b[0m\u001b[0mdescending\u001b[0m\u001b[0;34m)\u001b[0m\u001b[0;34m\u001b[0m\u001b[0;34m\u001b[0m\u001b[0m\n\u001b[0m",
            "\u001b[0;31mNameError\u001b[0m: name 'descending' is not defined"
          ]
        }
      ]
    },
    {
      "cell_type": "code",
      "source": [
        "\n",
        "a=list(range(50))\n",
        "\n",
        "\n",
        "a.sort(reverse=True)\n",
        "a"
      ],
      "metadata": {
        "id": "vEcDLyAOgmyh"
      },
      "execution_count": null,
      "outputs": []
    },
    {
      "cell_type": "markdown",
      "source": [
        "##Wygeneruj liczby niedodatnie z przedzialu [-15,10] podzielne przez 3 i malejąco"
      ],
      "metadata": {
        "id": "pdCe7WQaivEO"
      }
    },
    {
      "cell_type": "code",
      "source": [
        "a=list(range(-15,1,3))\n",
        "type(a)\n",
        "print([0,-3,-6,-9,-12,-15])\n",
        "\n"
      ],
      "metadata": {
        "colab": {
          "base_uri": "https://localhost:8080/"
        },
        "id": "jtAZMeYphVLf",
        "outputId": "a013e457-8395-4ec3-8309-7679cece9f42"
      },
      "execution_count": 75,
      "outputs": [
        {
          "output_type": "stream",
          "name": "stdout",
          "text": [
            "[0, -3, -6, -9, -12, -15]\n"
          ]
        }
      ]
    },
    {
      "cell_type": "markdown",
      "source": [
        "##lista kwadratów elementów z listy\n",
        "##lista x/x-2\n",
        "##podzielne przez 3"
      ],
      "metadata": {
        "id": "jdneI-ZKkpGj"
      }
    },
    {
      "cell_type": "code",
      "source": [
        "L=[1,3,5,7,8,10]\n",
        "a=[]\n",
        "b=[]\n",
        "c=[]\n",
        "for i in L:\n",
        "  a.append(i**2)\n",
        "for i in L:\n",
        "  b.append(i/(i-2))\n",
        "for i in L:\n",
        "  if i%3==0:\n",
        "    c.append(i)\n",
        "#najszybciej\n",
        "a=[n**2 for n in L]\n",
        "b=[i/(i-2) for i in L]\n",
        "c=filter(lambda z: z%3==0 ,L)\n",
        "type(c) # jest typu filter\n",
        "print(list(c))"
      ],
      "metadata": {
        "colab": {
          "base_uri": "https://localhost:8080/"
        },
        "id": "PcLi5FDgkjFE",
        "outputId": "f92560da-8381-4fd6-b069-efc5cc162b11"
      },
      "execution_count": 92,
      "outputs": [
        {
          "output_type": "stream",
          "name": "stdout",
          "text": [
            "[3]\n"
          ]
        }
      ]
    },
    {
      "cell_type": "code",
      "source": [
        "s={'pies','banan',3}\n",
        "s.remove('pies')\n",
        "s.add('kot')\n",
        "s2={1,23,4,5,3}\n",
        "\n",
        "a=s.intersection(s2)\n",
        "b=s.update(s2)\n",
        "print(b)\n",
        "print(s)"
      ],
      "metadata": {
        "colab": {
          "base_uri": "https://localhost:8080/"
        },
        "id": "48JBmeu2pSTv",
        "outputId": "a9692b96-80e2-4235-9c25-785224125171"
      },
      "execution_count": 102,
      "outputs": [
        {
          "output_type": "stream",
          "name": "stdout",
          "text": [
            "None\n",
            "{1, 3, 4, 5, 'kot', 'banan', 23}\n"
          ]
        }
      ]
    }
  ]
}